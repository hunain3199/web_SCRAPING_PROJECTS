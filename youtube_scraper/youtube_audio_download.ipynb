{
 "cells": [
  {
   "cell_type": "code",
   "execution_count": 5,
   "id": "961ed18d",
   "metadata": {},
   "outputs": [
    {
     "name": "stdout",
     "output_type": "stream",
     "text": [
      "Enter the URL of the video you want to download: \n",
      ">> https://www.youtube.com/watch?v=bbYzGA8_WZ4\n",
      "Enter the destination (leave blank for current directory)\n",
      ">> C:/Users/DELL/Desktop/youtube\n",
      "WHAT'S UP BRO part 41 I BHIMPHEDI GUYS I NEPALI COMEDY SHORT FILM 2022 I COMEDY I ENTERTAINMENT. has been successfully downloaded.\n"
     ]
    }
   ],
   "source": [
    "# importing packages\n",
    "from pytube import YouTube\n",
    "import os\n",
    "  \n",
    "# url input from user\n",
    "yt = YouTube(\n",
    "    str(input(\"Enter the URL of the video you want to download: \\n>> \")))\n",
    "  \n",
    "# extract only audio\n",
    "video = yt.streams.filter(only_audio=True).first()\n",
    "  \n",
    "# check for destination to save file\n",
    "print(\"Enter the destination (leave blank for current directory)\")\n",
    "destination = str(input(\">> \")) or '.'\n",
    "  \n",
    "# download the file\n",
    "out_file = video.download(output_path=destination)\n",
    "  \n",
    "# save the file\n",
    "base, ext = os.path.splitext(out_file)\n",
    "new_file = base + '.mp3'\n",
    "os.rename(out_file, new_file)\n",
    "  \n",
    "# result of success\n",
    "print(yt.title + \" has been successfully downloaded.\")"
   ]
  },
  {
   "cell_type": "code",
   "execution_count": null,
   "id": "529416a7",
   "metadata": {},
   "outputs": [],
   "source": []
  }
 ],
 "metadata": {
  "kernelspec": {
   "display_name": "Python 3 (ipykernel)",
   "language": "python",
   "name": "python3"
  },
  "language_info": {
   "codemirror_mode": {
    "name": "ipython",
    "version": 3
   },
   "file_extension": ".py",
   "mimetype": "text/x-python",
   "name": "python",
   "nbconvert_exporter": "python",
   "pygments_lexer": "ipython3",
   "version": "3.9.7"
  }
 },
 "nbformat": 4,
 "nbformat_minor": 5
}
