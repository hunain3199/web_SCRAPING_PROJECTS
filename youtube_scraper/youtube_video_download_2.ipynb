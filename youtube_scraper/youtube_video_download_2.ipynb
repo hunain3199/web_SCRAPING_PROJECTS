{
 "cells": [
  {
   "cell_type": "code",
   "execution_count": 2,
   "id": "8a67f224",
   "metadata": {},
   "outputs": [
    {
     "name": "stdout",
     "output_type": "stream",
     "text": [
      "Downloading...\n",
      "Downloading...\n",
      "Downloading...\n",
      "Downloading...\n",
      "Downloading...\n",
      "Download Complete\n"
     ]
    },
    {
     "data": {
      "text/plain": [
       "'C:\\\\Users\\\\DELL\\\\Bacchan pandey full movie explained 2022  Explore bacchan pandey movie in hindi Bachan pandey 2022.mp4'"
      ]
     },
     "execution_count": 2,
     "metadata": {},
     "output_type": "execute_result"
    }
   ],
   "source": [
    "from pytube import YouTube\n",
    "\n",
    "def on_progress(stream, chunk, bytes_remaining):\n",
    "    print(\"Downloading...\")\n",
    "\n",
    "def on_complete(stream, file_path):\n",
    "    print(\"Download Complete\")\n",
    "\n",
    "yt = YouTube(\n",
    "        \"https://www.youtube.com/watch?v=SGrc5Qe0_vs\",\n",
    "        on_progress_callback=on_progress,\n",
    "        on_complete_callback=on_complete,\n",
    "        use_oauth=False,\n",
    "        allow_oauth_cache=True\n",
    "    )\n",
    "\n",
    "yt.streams.filter(file_extension='mp4', res=\"720p\").first().download()"
   ]
  },
  {
   "cell_type": "code",
   "execution_count": null,
   "id": "e0815144",
   "metadata": {},
   "outputs": [],
   "source": []
  }
 ],
 "metadata": {
  "kernelspec": {
   "display_name": "Python 3 (ipykernel)",
   "language": "python",
   "name": "python3"
  },
  "language_info": {
   "codemirror_mode": {
    "name": "ipython",
    "version": 3
   },
   "file_extension": ".py",
   "mimetype": "text/x-python",
   "name": "python",
   "nbconvert_exporter": "python",
   "pygments_lexer": "ipython3",
   "version": "3.9.7"
  }
 },
 "nbformat": 4,
 "nbformat_minor": 5
}
